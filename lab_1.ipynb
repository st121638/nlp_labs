{
 "cells": [
  {
   "cell_type": "markdown",
   "id": "98b77cf2-fdbf-4120-ad5e-b14bdddf40f7",
   "metadata": {},
   "source": [
    "# Извлечение данных из коллекции новостных текстов\n",
    "\n",
    "Данные расположены  [в файле data/news.tar.gz](data/news.tar.gz). С некоторых новостных сайтов был загружен архив новостей а  несколько лет, причем каждая новость принаделжит к какой-то рубрике: `science`, `style`, `culture`, `life`, `economics`, `business`, `travel`, `forces`, `media`, `sport`\n",
    "    \n",
    "\n",
    "В каждой строке файла содержится метка рубрики, заголовок новостной статьи и сам текст статьи, например:\n",
    "\n",
    "        sport <tab> Сборная Канады по хоккею разгромила чехов <tab> Сборная Канады по хоккею крупно об...\n",
    "\n",
    "С помощью [Yargy](https://github.com/natasha/yargy) или [Томита-парсера](https://github.com/yandex/tomita-parser) извлеките данные, которые можно описать структурой вида:\n",
    "\n",
    "@dataclass\n",
    "\n",
    "class Entry:\n",
    "\n",
    "    name: str\n",
    "    birth_date: Optional[str]\n",
    "    birth_place: Optional[str]\n"
   ]
  },
  {
   "cell_type": "code",
   "execution_count": 1,
   "id": "453c3b2f-bb6d-4f07-b826-1694ce35d488",
   "metadata": {},
   "outputs": [
    {
     "name": "stdout",
     "output_type": "stream",
     "text": [
      "Collecting yargy\n",
      "  Using cached yargy-0.16.0-py3-none-any.whl.metadata (3.5 kB)\n",
      "Collecting pymorphy2 (from yargy)\n",
      "  Using cached pymorphy2-0.9.1-py3-none-any.whl.metadata (3.6 kB)\n",
      "Collecting dawg-python>=0.7.1 (from pymorphy2->yargy)\n",
      "  Using cached DAWG_Python-0.7.2-py2.py3-none-any.whl.metadata (7.0 kB)\n",
      "Collecting pymorphy2-dicts-ru<3.0,>=2.4 (from pymorphy2->yargy)\n",
      "  Using cached pymorphy2_dicts_ru-2.4.417127.4579844-py2.py3-none-any.whl.metadata (2.1 kB)\n",
      "Collecting docopt>=0.6 (from pymorphy2->yargy)\n",
      "  Using cached docopt-0.6.2-py2.py3-none-any.whl\n",
      "Using cached yargy-0.16.0-py3-none-any.whl (33 kB)\n",
      "Using cached pymorphy2-0.9.1-py3-none-any.whl (55 kB)\n",
      "Using cached DAWG_Python-0.7.2-py2.py3-none-any.whl (11 kB)\n",
      "Using cached pymorphy2_dicts_ru-2.4.417127.4579844-py2.py3-none-any.whl (8.2 MB)\n",
      "Installing collected packages: pymorphy2-dicts-ru, docopt, dawg-python, pymorphy2, yargy\n",
      "Successfully installed dawg-python-0.7.2 docopt-0.6.2 pymorphy2-0.9.1 pymorphy2-dicts-ru-2.4.417127.4579844 yargy-0.16.0\n"
     ]
    }
   ],
   "source": [
    "!pip install yargy\n"
   ]
  },
  {
   "cell_type": "code",
   "execution_count": 23,
   "id": "bf0dede4-d47b-4ea8-aaa0-0b649fd504a0",
   "metadata": {},
   "outputs": [],
   "source": [
    "from dataclasses import dataclass\n",
    "from yargy.predicates import lte, gte, dictionary\n",
    "from yargy.predicates import gram, is_capitalized, dictionary, normalized\n",
    "from yargy.relations import gnc_relation\n",
    "from yargy import Parser, rule, and_, or_\n",
    "from yargy.pipelines import morph_pipeline\n",
    "from yargy.interpretation import fact"
   ]
  },
  {
   "cell_type": "code",
   "execution_count": 31,
   "id": "a3144461-50dc-4b96-a43c-dc2aea5c9c87",
   "metadata": {},
   "outputs": [],
   "source": [
    "@dataclass\n",
    "class Entry:\n",
    "    name: str\n",
    "    birth_date: Optional[str] = None\n",
    "    birth_place: Optional[str] = None"
   ]
  },
  {
   "cell_type": "code",
   "execution_count": 44,
   "id": "b60ac48c-62b0-438a-bcdf-6d67f948bba5",
   "metadata": {},
   "outputs": [],
   "source": [
    "gnc = gnc_relation()\n",
    "Person = fact(\n",
    "    \"Person\",\n",
    "    [\"first\", \"last\"]\n",
    ")\n",
    "\n",
    "Entry = fact(\n",
    "    \"Entry\",\n",
    "    [\"name\", \"birth_date\", \"birth_place\"]\n",
    ")\n",
    "\n",
    "#имя фамилия\n",
    "NAME = rule(\n",
    "    gram(\"Name\"),\n",
    "    gram(\"Surn\")\n",
    ")\n",
    "\n",
    "\n",
    "MONTH_WORDS = dictionary({\n",
    "    \"января\", \"февраля\", \"марта\", \"апреля\", \"мая\", \"июня\",\n",
    "    \"июля\", \"августа\", \"сентября\", \"октября\", \"ноября\", \"декабря\"\n",
    "})\n",
    "\n",
    "DAY_NUM = and_(gte(1), lte(31))\n",
    "MONTH_NUM = and_(gte(1), lte(12))\n",
    "YEAR_NUM = and_(gte(1800), lte(2025))\n",
    "\n",
    "#даты\n",
    "DATE_RULE = or_(\n",
    "    rule(YEAR_NUM, '.', MONTH_NUM, '.', DAY_NUM), # 2001.01.21\n",
    "    rule(YEAR_NUM, '-', MONTH_NUM, '-', DAY_NUM), # 2001-01-21\n",
    "    rule(DAY_NUM, '-', MONTH_NUM, '-', YEAR_NUM), # 21-01-2001\n",
    "    rule(DAY_NUM, '.', MONTH_NUM, '.', YEAR_NUM), # 21.01.2001\n",
    "    rule(DAY_NUM, MONTH_WORDS, YEAR_NUM),         # 21 января 2001\n",
    "    rule(YEAR_NUM, 'году'),                       # 2001 году\n",
    "    rule(YEAR_NUM, 'г', '.')                      # 2001 г.\n",
    ").named('DATE')\n",
    "\n",
    "\n",
    "BIRTH_WORDS = morph_pipeline([\n",
    "    \"появился на свет\",\n",
    "    \"родился\",\n",
    "    \"дата рождения\",\n",
    "    \"был рожден\",\n",
    "    \"рождение\"\n",
    "])\n",
    "\n",
    "BIRTH_PLACE = rule(\n",
    "    and_(\n",
    "        gram(\"NOUN\"),\n",
    "        is_capitalized()\n",
    "    ).optional().repeatable()\n",
    ")\n",
    "\n",
    "BIRTH_PLACE_TYPE = rule(\n",
    "    gram(\"PREP\"),\n",
    "    dictionary({\n",
    "        \"городе\",\n",
    "        \"хуторе\",\n",
    "        \"селе\",\n",
    "        \"поселке\",\n",
    "        \"деревне\",\n",
    "        \"мегаполисе\"\n",
    "    }).optional(),\n",
    ")\n",
    "\n",
    "SENT = rule(\n",
    "    NAME.interpretation(Entry.name),\n",
    "    or_(\n",
    "        rule(\n",
    "            BIRTH_WORDS,\n",
    "            DATE.interpretation(Entry.birth_date),\n",
    "            BIRTH_PLACE_TYPE,\n",
    "            BIRTH_PLACE.interpretation(Entry.birth_place.normalized().custom(str.title))\n",
    "        ),\n",
    "        rule(\n",
    "            BIRTH_WORDS,\n",
    "            DATE.interpretation(Entry.birth_date),\n",
    "        ),\n",
    "        rule(\n",
    "            BIRTH_WORDS,\n",
    "            BIRTH_PLACE_TYPE,\n",
    "            BIRTH_PLACE.interpretation(Entry.birth_place.normalized().custom(str.title))\n",
    "        ),\n",
    "    ).optional()\n",
    "    \n",
    ").interpretation(Entry)"
   ]
  },
  {
   "cell_type": "code",
   "execution_count": 45,
   "id": "33987556-af78-4715-93dd-5e0fe787d854",
   "metadata": {},
   "outputs": [
    {
     "name": "stdout",
     "output_type": "stream",
     "text": [
      "Entry(name='Дмитрий Смирнов', birth_date='29 октября 1982', birth_place='Овсянникино')\n"
     ]
    }
   ],
   "source": [
    "text = \"Дмитрий Смирнов родился 29 октября 1982 в селе Овсянникино\"\n",
    "parser = Parser(SENT)\n",
    "for match in parser.findall(text):\n",
    "    print(match.fact)"
   ]
  },
  {
   "cell_type": "code",
   "execution_count": 48,
   "id": "6177e6be-8991-458c-b85c-23c5811982f9",
   "metadata": {},
   "outputs": [
    {
     "name": "stdout",
     "output_type": "stream",
     "text": [
      "Entry(name='Сергей Александров', birth_date='12.12.1990', birth_place='Рязань')\n"
     ]
    }
   ],
   "source": [
    "text = \"Сергей Александров родился 12.12.1990 в городе Рязань\"\n",
    "parser = Parser(SENT)\n",
    "for match in parser.findall(text):\n",
    "    print(match.fact)"
   ]
  },
  {
   "cell_type": "code",
   "execution_count": 62,
   "id": "a1c91207-e1f5-4ea7-895d-346f00bff010",
   "metadata": {},
   "outputs": [
    {
     "name": "stdout",
     "output_type": "stream",
     "text": [
      "Entry(name='Светлана Орлова', birth_date='7 октября 2000', birth_place='Ушаковка')\n"
     ]
    }
   ],
   "source": [
    "text = \"Светлана Орлова появилась на свет 7 октября 2000 в поселке Ушаковка\"\n",
    "parser = Parser(SENT)\n",
    "for match in parser.findall(text):\n",
    "    print(match.fact)"
   ]
  },
  {
   "cell_type": "code",
   "execution_count": 65,
   "id": "a6ff8c3e-88af-4486-8e8b-9a646930a06d",
   "metadata": {},
   "outputs": [
    {
     "name": "stdout",
     "output_type": "stream",
     "text": [
      "Выполнено\n"
     ]
    }
   ],
   "source": [
    "def parse_news(input_file_path, output_file_path):\n",
    "    with open(input_file_path, \"r\", encoding=\"utf-8\") as input_file, open(output_file_path, \"w\", encoding=\"utf-8\") as output_file:\n",
    "        for line in input_file:\n",
    "\n",
    "            category, headline, article_text = line.strip().split(\"\\t\", 2)\n",
    "            \n",
    "            parser = Parser(SENT)\n",
    "            matches = parser.findall(article_text)\n",
    "            \n",
    "            for match in matches:\n",
    "                output_file.write(f\"{match.fact}\\n\")\n",
    "\n",
    "parse_news(\"data/news.txt\", \"result.txt\")\n",
    "print(\"Выполнено\")"
   ]
  },
  {
   "cell_type": "code",
   "execution_count": null,
   "id": "07b1131a-c9e3-4d19-ade5-1ca2a91a8ca5",
   "metadata": {},
   "outputs": [],
   "source": []
  }
 ],
 "metadata": {
  "kernelspec": {
   "display_name": "Python 3 (ipykernel)",
   "language": "python",
   "name": "python3"
  },
  "language_info": {
   "codemirror_mode": {
    "name": "ipython",
    "version": 3
   },
   "file_extension": ".py",
   "mimetype": "text/x-python",
   "name": "python",
   "nbconvert_exporter": "python",
   "pygments_lexer": "ipython3",
   "version": "3.12.7"
  }
 },
 "nbformat": 4,
 "nbformat_minor": 5
}
